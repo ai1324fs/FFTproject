{
 "cells": [
  {
   "cell_type": "code",
   "execution_count": null,
   "metadata": {},
   "outputs": [],
   "source": [
    "import numpy as np\n",
    "import matplotlib.pyplot as plt\n",
    "\n",
    "Fs = 1000\n",
    "T = 1/Fs\n",
    "end_time = 1\n",
    "time = np.linspace(0, end_time, Fs)\n",
    "amp = [2, 1, 0.5, 0.2]\n",
    "freq = [10, 20, 30, 40]\n",
    "\n",
    "signal_1 = amp[0]*np.sin(freq[0]*2*np.pi*time)\n",
    "signal_2 = amp[1]*np.sin(freq[1]*2*np.pi*time)\n",
    "signal_3 = amp[2]*np.sin(freq[2]*2*np.pi*time)\n",
    "signal_4 = amp[3]*np.sin(freq[3]*2*np.pi*time)\n",
    "\n",
    "signal = signal_1 + signal_2 + signal_3 + signal_4\n",
    "\n",
    "plt.plot(time, signal)\n",
    "plt.show()"
   ]
  },
  {
   "cell_type": "code",
   "execution_count": null,
   "metadata": {},
   "outputs": [],
   "source": [
    "signal_list = []\n",
    "for i in range(len(amp)):\n",
    "    signal_list.append(amp[i]*np.sin(freq[i]*2*np.pi*time))\n",
    "signal = sum(signal_list)\n",
    "\n",
    "s_fft = np.fft.fft(signal) # 추후 IFFT를 위해 abs를 취하지 않은 값을 저장한다.\n",
    "amplitude = abs(s_fft)*(2/len(s_fft)) # 2/len(s)을 곱해줘서 원래의 amp를 구한다.\n",
    "frequency = np.fft.fftfreq(len(s_fft), T)\n",
    "\n",
    "plt.xlim(0, 50)\n",
    "plt.stem(frequency, amplitude)\n",
    "plt.grid(True)\n",
    "plt.show()"
   ]
  },
  {
   "cell_type": "code",
   "execution_count": null,
   "metadata": {},
   "outputs": [],
   "source": [
    "fft_freq = frequency.copy()\n",
    "peak_index = amplitude[:int(len(amplitude)/2)].argsort()[-1]\n",
    "peak_freq = fft_freq[peak_index]\n",
    "\n",
    "fft_1x = s_fft.copy()\n",
    "fft_1x[fft_freq!=peak_freq] = 0\n",
    "filtered_data = 2*np.fft.ifft(fft_1x)\n",
    "cycle = round(Fs/peak_freq)\n",
    "\n",
    "plt.subplot(2, 1, 1)\n",
    "plt.title('1X sin wave')\n",
    "plt.plot(filtered_data[:400], marker='o', color='darkgreen', alpha=0.3)\n",
    "plt.subplot(2, 1, 2)\n",
    "plt.title('1-period graph')\n",
    "plt.plot(signal[:400], marker='o', color='lightgrey')\n",
    "plt.plot(signal[:cycle], color='indigo')\n",
    "plt.subplots_adjust(left=0.125, bottom=0.1,  right=0.9, top=0.9, wspace=0.2, hspace=0.35)\n",
    "plt.show()"
   ]
  }
 ],
 "metadata": {
  "kernelspec": {
   "display_name": "Python 3.10.1 64-bit",
   "language": "python",
   "name": "python3"
  },
  "language_info": {
   "name": "python",
   "version": "3.10.1"
  },
  "orig_nbformat": 4,
  "vscode": {
   "interpreter": {
    "hash": "a42ccb73e7d9bfdf27e036f1d2b8b681e55fc0743cc5586bc2474d4a60f4b886"
   }
  }
 },
 "nbformat": 4,
 "nbformat_minor": 2
}
